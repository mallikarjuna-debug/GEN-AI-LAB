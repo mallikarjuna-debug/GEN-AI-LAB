{
  "nbformat": 4,
  "nbformat_minor": 0,
  "metadata": {
    "colab": {
      "provenance": []
    },
    "kernelspec": {
      "name": "python3",
      "display_name": "Python 3"
    },
    "language_info": {
      "name": "python"
    }
  },
  "cells": [
    {
      "cell_type": "code",
      "source": [
        "!pip install pytesseract"
      ],
      "metadata": {
        "colab": {
          "base_uri": "https://localhost:8080/"
        },
        "id": "aXyaC1fVq3RY",
        "outputId": "9ae2a30a-2334-42e3-e384-9c3c60bd4853"
      },
      "execution_count": null,
      "outputs": [
        {
          "output_type": "stream",
          "name": "stdout",
          "text": [
            "Requirement already satisfied: pytesseract in /usr/local/lib/python3.11/dist-packages (0.3.13)\n",
            "Requirement already satisfied: packaging>=21.3 in /usr/local/lib/python3.11/dist-packages (from pytesseract) (25.0)\n",
            "Requirement already satisfied: Pillow>=8.0.0 in /usr/local/lib/python3.11/dist-packages (from pytesseract) (11.3.0)\n"
          ]
        }
      ]
    },
    {
      "cell_type": "code",
      "execution_count": null,
      "metadata": {
        "id": "kX5hC9EFqa2N"
      },
      "outputs": [],
      "source": [
        "import pytesseract\n",
        "from PIL import Image\n",
        "from transformers import pipeline"
      ]
    },
    {
      "cell_type": "code",
      "source": [
        "input=\"/content/download (1).jpg\"\n",
        "input_image = Image.open(input)"
      ],
      "metadata": {
        "id": "758aTWHhqu2J"
      },
      "execution_count": null,
      "outputs": []
    },
    {
      "cell_type": "code",
      "source": [
        "import re\n",
        "Text_output=pytesseract.image_to_string(input_image,lang='eng').strip()\n",
        "Text_output=re.sub(r'\\s+','',Text_output)"
      ],
      "metadata": {
        "id": "Q1v5JiSesQgx"
      },
      "execution_count": null,
      "outputs": []
    },
    {
      "cell_type": "code",
      "source": [
        "if not Text_output:\n",
        "  print(\"No text found in the image\")\n",
        "else:\n",
        "  print(f\"Extracted Text: {Text_output}\")\n",
        "  sentiment_analyzer=pipeline(\"sentiment-analysis\")\n",
        "  sentiment_result=sentiment_analyzer(Text_output)[0]\n",
        "  print(\"\\nSentiment Analysis:\")\n",
        "  print(f\"Text: {Text_output}\")\n",
        "  print(f\"Sentiment : {sentiment_result['label']}(score: {sentiment_result['score']:.2f})\\n\")"
      ],
      "metadata": {
        "colab": {
          "base_uri": "https://localhost:8080/"
        },
        "id": "7JZZK3pQt3LY",
        "outputId": "f7c1d55e-c339-4716-e26b-7053f06c6b6f"
      },
      "execution_count": null,
      "outputs": [
        {
          "output_type": "stream",
          "name": "stderr",
          "text": [
            "No model was supplied, defaulted to distilbert/distilbert-base-uncased-finetuned-sst-2-english and revision 714eb0f (https://huggingface.co/distilbert/distilbert-base-uncased-finetuned-sst-2-english).\n",
            "Using a pipeline without specifying a model name and revision in production is not recommended.\n"
          ]
        },
        {
          "output_type": "stream",
          "name": "stdout",
          "text": [
            "Extracted Text: Best.Summer.Ever.\n"
          ]
        },
        {
          "output_type": "stream",
          "name": "stderr",
          "text": [
            "Device set to use cpu\n"
          ]
        },
        {
          "output_type": "stream",
          "name": "stdout",
          "text": [
            "\n",
            "Sentiment Analysis:\n",
            "Text: Best.Summer.Ever.\n",
            "Sentiment : POSITIVE(score: 1.00)\n",
            "\n"
          ]
        }
      ]
    },
    {
      "cell_type": "code",
      "source": [],
      "metadata": {
        "id": "hWMOJ9Z4wg5w"
      },
      "execution_count": null,
      "outputs": []
    }
  ]
}
{
  "nbformat": 4,
  "nbformat_minor": 0,
  "metadata": {
    "colab": {
      "provenance": []
    },
    "kernelspec": {
      "name": "python3",
      "display_name": "Python 3"
    },
    "language_info": {
      "name": "python"
    }
  },
  "cells": [
    {
      "cell_type": "code",
      "execution_count": 6,
      "metadata": {
        "colab": {
          "base_uri": "https://localhost:8080/"
        },
        "id": "SmT_OhcXpnUr",
        "outputId": "9e0fab36-c578-463c-aa5f-71d50d999419"
      },
      "outputs": [
        {
          "output_type": "stream",
          "name": "stderr",
          "text": [
            "No model was supplied, defaulted to distilbert/distilbert-base-uncased-finetuned-sst-2-english and revision 714eb0f (https://huggingface.co/distilbert/distilbert-base-uncased-finetuned-sst-2-english).\n",
            "Using a pipeline without specifying a model name and revision in production is not recommended.\n",
            "Device set to use cpu\n"
          ]
        },
        {
          "output_type": "stream",
          "name": "stdout",
          "text": [
            "Sentiment Analysis\n",
            "Input : I am feeling happy\n",
            "Sentiment : POSITIVE(score: 1.00)\n",
            "\n"
          ]
        }
      ],
      "source": [
        "from transformers import pipeline\n",
        "sentiment_analyser=pipeline(\"sentiment-analysis\")\n",
        "text=\"I am feeling happy\"\n",
        "sentiment_result=sentiment_analyser(text)\n",
        "print(\"Sentiment Analysis\")\n",
        "print(f\"Input : {text}\")\n",
        "print(f\"Sentiment : {sentiment_result[0]['label']}(score: {sentiment_result[0]['score']:.2f})\\n\")"
      ]
    },
    {
      "cell_type": "code",
      "source": [
        "translator_en_to_fr=pipeline(\"translation_en_to_fr\",model = \"Helsinki-NLP/opus-mt-en-fr\")\n"
      ],
      "metadata": {
        "id": "5cJLnCrDqKNO",
        "colab": {
          "base_uri": "https://localhost:8080/"
        },
        "outputId": "b135148a-b4b4-4edd-db73-ee5e76f21b45"
      },
      "execution_count": 11,
      "outputs": [
        {
          "output_type": "stream",
          "name": "stderr",
          "text": [
            "Device set to use cpu\n"
          ]
        }
      ]
    },
    {
      "cell_type": "code",
      "source": [
        "translator_output=translator_en_to_fr(text)\n",
        "print(\"Language Translation:\")\n",
        "print(f\"Input : {text}\")\n",
        "print(f\"Output : {translator_output}\\n\")"
      ],
      "metadata": {
        "colab": {
          "base_uri": "https://localhost:8080/"
        },
        "id": "5BdromHPucSO",
        "outputId": "1b830cc7-2999-4ca1-95ff-ecee58709699"
      },
      "execution_count": 12,
      "outputs": [
        {
          "output_type": "stream",
          "name": "stdout",
          "text": [
            "Language Translation:\n",
            "Input : I am feeling happy\n",
            "Output : [{'translation_text': 'Je me sens heureux.'}]\n",
            "\n"
          ]
        }
      ]
    },
    {
      "cell_type": "code",
      "source": [],
      "metadata": {
        "id": "8-7q8DODxnGB"
      },
      "execution_count": null,
      "outputs": []
    }
  ]
}